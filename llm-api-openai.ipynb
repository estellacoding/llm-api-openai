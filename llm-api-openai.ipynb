{
 "cells": [
  {
   "cell_type": "markdown",
   "id": "cdcfa3f0-560f-4103-a03b-af19da24dd31",
   "metadata": {},
   "source": [
    "# 用 OpenAI 套件"
   ]
  },
  {
   "cell_type": "code",
   "execution_count": 1,
   "id": "ca34147d-3517-444b-b5f5-95ac15a7fb36",
   "metadata": {},
   "outputs": [],
   "source": [
    "import os\n",
    "from dotenv import load_dotenv\n",
    "\n",
    "load_dotenv()\n",
    "openai_api_key = os.getenv(\"OPENAI_API_KEY\")"
   ]
  },
  {
   "cell_type": "markdown",
   "id": "ac64290e-5e2d-4cb7-bbbd-29716fde2efd",
   "metadata": {},
   "source": [
    "## v0.28"
   ]
  },
  {
   "cell_type": "code",
   "execution_count": 2,
   "id": "b7b6f088-7651-4ad1-b6c3-a13be34db94c",
   "metadata": {},
   "outputs": [
    {
     "name": "stdout",
     "output_type": "stream",
     "text": [
      "Collecting openai==0.28\n",
      "  Using cached openai-0.28.0-py3-none-any.whl.metadata (13 kB)\n",
      "Requirement already satisfied: requests>=2.20 in /opt/anaconda3/envs/llm-env/lib/python3.12/site-packages (from openai==0.28) (2.32.3)\n",
      "Requirement already satisfied: tqdm in /opt/anaconda3/envs/llm-env/lib/python3.12/site-packages (from openai==0.28) (4.67.1)\n",
      "Requirement already satisfied: aiohttp in /opt/anaconda3/envs/llm-env/lib/python3.12/site-packages (from openai==0.28) (3.11.10)\n",
      "Requirement already satisfied: charset-normalizer<4,>=2 in /opt/anaconda3/envs/llm-env/lib/python3.12/site-packages (from requests>=2.20->openai==0.28) (3.3.2)\n",
      "Requirement already satisfied: idna<4,>=2.5 in /opt/anaconda3/envs/llm-env/lib/python3.12/site-packages (from requests>=2.20->openai==0.28) (3.7)\n",
      "Requirement already satisfied: urllib3<3,>=1.21.1 in /opt/anaconda3/envs/llm-env/lib/python3.12/site-packages (from requests>=2.20->openai==0.28) (2.2.3)\n",
      "Requirement already satisfied: certifi>=2017.4.17 in /opt/anaconda3/envs/llm-env/lib/python3.12/site-packages (from requests>=2.20->openai==0.28) (2024.8.30)\n",
      "Requirement already satisfied: aiohappyeyeballs>=2.3.0 in /opt/anaconda3/envs/llm-env/lib/python3.12/site-packages (from aiohttp->openai==0.28) (2.4.4)\n",
      "Requirement already satisfied: aiosignal>=1.1.2 in /opt/anaconda3/envs/llm-env/lib/python3.12/site-packages (from aiohttp->openai==0.28) (1.3.1)\n",
      "Requirement already satisfied: attrs>=17.3.0 in /opt/anaconda3/envs/llm-env/lib/python3.12/site-packages (from aiohttp->openai==0.28) (24.2.0)\n",
      "Requirement already satisfied: frozenlist>=1.1.1 in /opt/anaconda3/envs/llm-env/lib/python3.12/site-packages (from aiohttp->openai==0.28) (1.5.0)\n",
      "Requirement already satisfied: multidict<7.0,>=4.5 in /opt/anaconda3/envs/llm-env/lib/python3.12/site-packages (from aiohttp->openai==0.28) (6.1.0)\n",
      "Requirement already satisfied: propcache>=0.2.0 in /opt/anaconda3/envs/llm-env/lib/python3.12/site-packages (from aiohttp->openai==0.28) (0.2.1)\n",
      "Requirement already satisfied: yarl<2.0,>=1.17.0 in /opt/anaconda3/envs/llm-env/lib/python3.12/site-packages (from aiohttp->openai==0.28) (1.18.3)\n",
      "Using cached openai-0.28.0-py3-none-any.whl (76 kB)\n",
      "Installing collected packages: openai\n",
      "  Attempting uninstall: openai\n",
      "    Found existing installation: openai 1.57.3\n",
      "    Uninstalling openai-1.57.3:\n",
      "      Successfully uninstalled openai-1.57.3\n",
      "Successfully installed openai-0.28.0\n"
     ]
    }
   ],
   "source": [
    "!pip install openai==0.28"
   ]
  },
  {
   "cell_type": "code",
   "execution_count": 3,
   "id": "61004471-33fb-4732-adf1-ebd669b9d081",
   "metadata": {},
   "outputs": [
    {
     "name": "stdout",
     "output_type": "stream",
     "text": [
      "為什麼學校的大門經常生病？\n",
      "因為每天都有太多「學生」進來了！哈哈哈！\n"
     ]
    }
   ],
   "source": [
    "import openai\n",
    "\n",
    "openai.api_key = openai_api_key\n",
    "\n",
    "response = openai.ChatCompletion.create(\n",
    "    model=\"gpt-3.5-turbo\",\n",
    "    messages=[{\"role\": \"user\", \"content\": \"講笑話\"}]\n",
    ")\n",
    "\n",
    "print(response.choices[0].message[\"content\"])"
   ]
  },
  {
   "cell_type": "markdown",
   "id": "5831d3c9-c968-4182-ac3a-b49d4b53b604",
   "metadata": {},
   "source": [
    "## v1.57"
   ]
  },
  {
   "cell_type": "code",
   "execution_count": 2,
   "id": "61fd1e8a-5908-48b5-b46f-0fb2825a6124",
   "metadata": {},
   "outputs": [
    {
     "name": "stdout",
     "output_type": "stream",
     "text": [
      "Requirement already satisfied: openai==1.57.3 in /opt/anaconda3/envs/llm-env/lib/python3.12/site-packages (1.57.3)\n",
      "Requirement already satisfied: anyio<5,>=3.5.0 in /opt/anaconda3/envs/llm-env/lib/python3.12/site-packages (from openai==1.57.3) (4.6.2)\n",
      "Requirement already satisfied: distro<2,>=1.7.0 in /opt/anaconda3/envs/llm-env/lib/python3.12/site-packages (from openai==1.57.3) (1.9.0)\n",
      "Requirement already satisfied: httpx<1,>=0.23.0 in /opt/anaconda3/envs/llm-env/lib/python3.12/site-packages (from openai==1.57.3) (0.27.0)\n",
      "Requirement already satisfied: jiter<1,>=0.4.0 in /opt/anaconda3/envs/llm-env/lib/python3.12/site-packages (from openai==1.57.3) (0.8.2)\n",
      "Requirement already satisfied: pydantic<3,>=1.9.0 in /opt/anaconda3/envs/llm-env/lib/python3.12/site-packages (from openai==1.57.3) (2.10.3)\n",
      "Requirement already satisfied: sniffio in /opt/anaconda3/envs/llm-env/lib/python3.12/site-packages (from openai==1.57.3) (1.3.0)\n",
      "Requirement already satisfied: tqdm>4 in /opt/anaconda3/envs/llm-env/lib/python3.12/site-packages (from openai==1.57.3) (4.67.1)\n",
      "Requirement already satisfied: typing-extensions<5,>=4.11 in /opt/anaconda3/envs/llm-env/lib/python3.12/site-packages (from openai==1.57.3) (4.12.2)\n",
      "Requirement already satisfied: idna>=2.8 in /opt/anaconda3/envs/llm-env/lib/python3.12/site-packages (from anyio<5,>=3.5.0->openai==1.57.3) (3.7)\n",
      "Requirement already satisfied: certifi in /opt/anaconda3/envs/llm-env/lib/python3.12/site-packages (from httpx<1,>=0.23.0->openai==1.57.3) (2024.8.30)\n",
      "Requirement already satisfied: httpcore==1.* in /opt/anaconda3/envs/llm-env/lib/python3.12/site-packages (from httpx<1,>=0.23.0->openai==1.57.3) (1.0.2)\n",
      "Requirement already satisfied: h11<0.15,>=0.13 in /opt/anaconda3/envs/llm-env/lib/python3.12/site-packages (from httpcore==1.*->httpx<1,>=0.23.0->openai==1.57.3) (0.14.0)\n",
      "Requirement already satisfied: annotated-types>=0.6.0 in /opt/anaconda3/envs/llm-env/lib/python3.12/site-packages (from pydantic<3,>=1.9.0->openai==1.57.3) (0.7.0)\n",
      "Requirement already satisfied: pydantic-core==2.27.1 in /opt/anaconda3/envs/llm-env/lib/python3.12/site-packages (from pydantic<3,>=1.9.0->openai==1.57.3) (2.27.1)\n"
     ]
    }
   ],
   "source": [
    "!pip install openai==1.57.3"
   ]
  },
  {
   "cell_type": "code",
   "execution_count": 3,
   "id": "662c653c-bcd9-4669-ac16-86b0facad954",
   "metadata": {},
   "outputs": [
    {
     "name": "stdout",
     "output_type": "stream",
     "text": [
      "當然可以！這裡有一個笑話：\n",
      "\n",
      "有一天，小明對他的朋友說：「我昨天晚上夢見我在牙醫那裡，牙醫告訴我需要拔掉三顆牙！」\n",
      "\n",
      "他的朋友驚訝地問：「那你怎麼辦？」\n",
      "\n",
      "小明回答：「我告訴他，能不能給我留兩顆，這樣我就能繼續吃冰淇淋了！」\n",
      "\n",
      "希望這個笑話能讓你笑一笑！如果想要聽更多笑話，隨時告訴我！\n"
     ]
    }
   ],
   "source": [
    "from openai import OpenAI\n",
    "\n",
    "client = OpenAI(api_key=openai_api_key)\n",
    "\n",
    "completion = client.chat.completions.create(\n",
    " model=\"gpt-4o-mini\",\n",
    " messages=[\n",
    " {\"role\": \"system\", \"content\": \"You are a helpful assistant.\"},\n",
    " {\"role\": \"user\",\"content\": \"講笑話\"}])\n",
    "\n",
    "print(completion.choices[0].message.content)"
   ]
  },
  {
   "cell_type": "markdown",
   "id": "88fc3c01-d4aa-4aa3-a055-c3d481597ed5",
   "metadata": {},
   "source": [
    "# 發送 HTTP 請求"
   ]
  },
  {
   "cell_type": "code",
   "execution_count": 4,
   "id": "6cd29356-cdba-42e4-8af3-813ab90a3a5c",
   "metadata": {},
   "outputs": [
    {
     "name": "stdout",
     "output_type": "stream",
     "text": [
      "為什麼海豚不喜歡玩牌？\n",
      "因為他們都愛玩撲克臉！哈哈哈！\n"
     ]
    }
   ],
   "source": [
    "import requests\n",
    "import json\n",
    "\n",
    "headers = {\n",
    " \"Content-Type\": \"application/json\",\n",
    " \"Authorization\": f'Bearer {openai_api_key}',\n",
    "}\n",
    "data = {\n",
    " \"model\": \"gpt-3.5-turbo\",\n",
    " \"messages\": [{\"role\": \"user\", \"content\": \"講笑話\"}],\n",
    "}\n",
    "\n",
    "url = \"https://api.openai.com/v1/chat/completions\"\n",
    "response = requests.post(url, headers=headers, data=json.dumps(data))\n",
    "result = json.loads(response.text)\n",
    "\n",
    "print(result[\"choices\"][0][\"message\"][\"content\"])"
   ]
  },
  {
   "cell_type": "code",
   "execution_count": 5,
   "id": "9c127020-dfad-4a3d-9653-275316a42512",
   "metadata": {},
   "outputs": [
    {
     "name": "stdout",
     "output_type": "stream",
     "text": [
      "當然可以！這是一個簡單的笑話：\n",
      "\n",
      "有一天，小明去醫院看病，醫生問他：「你怎麼了？」\n",
      "\n",
      "小明說：「我覺得我是一隻雞！」\n",
      "\n",
      "醫生驚訝地問：「你這樣多久了？」\n",
      "\n",
      "小明答：「大約三年。」\n",
      "\n",
      "醫生叹了口氣，說：「那你怎麼不來看我？」\n",
      "\n",
      "小明回答：「因為我在等待我的蛋孵出來！」\n",
      "\n",
      "希望你喜歡這個笑話！需要更多嗎？\n"
     ]
    }
   ],
   "source": [
    "import requests\n",
    "import json\n",
    "\n",
    "headers = {\n",
    " 'Content-Type': 'application/json',\n",
    " 'Authorization': f'Bearer {openai_api_key}',}\n",
    "data = {\n",
    " \"model\": \"gpt-4o-mini\",\n",
    " \"messages\": [\n",
    " {\"role\": \"system\", \"content\": \"You are a helpful assistant.\"},\n",
    " {\"role\": \"user\", \"content\": \"講笑話\"}]}\n",
    "\n",
    "url = 'https://api.openai.com/v1/chat/completions'\n",
    "response = requests.post(url, headers=headers, data=json.dumps(data))\n",
    "result = response.json()\n",
    "\n",
    "print(result['choices'][0]['message']['content'])"
   ]
  },
  {
   "cell_type": "code",
   "execution_count": null,
   "id": "3f508897-059f-464a-a591-f4d867cac098",
   "metadata": {},
   "outputs": [],
   "source": []
  }
 ],
 "metadata": {
  "kernelspec": {
   "display_name": "llm-env",
   "language": "python",
   "name": "llm-env"
  },
  "language_info": {
   "codemirror_mode": {
    "name": "ipython",
    "version": 3
   },
   "file_extension": ".py",
   "mimetype": "text/x-python",
   "name": "python",
   "nbconvert_exporter": "python",
   "pygments_lexer": "ipython3",
   "version": "3.12.8"
  }
 },
 "nbformat": 4,
 "nbformat_minor": 5
}
